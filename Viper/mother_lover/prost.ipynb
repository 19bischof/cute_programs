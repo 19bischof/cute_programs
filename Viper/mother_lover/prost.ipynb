{
 "cells": [
  {
   "cell_type": "code",
   "execution_count": 23,
   "metadata": {},
   "outputs": [
    {
     "name": "stdout",
     "output_type": "stream",
     "text": [
      "*** No CODEPAGE record, no encoding_override: will use 'iso-8859-1'\n"
     ]
    }
   ],
   "source": [
    "import pandas as ps\n",
    "file = ps.read_excel(r\"pathtoexcel/mlr02.xls\",engine=\"xlrd\")\n"
   ]
  },
  {
   "cell_type": "code",
   "execution_count": 24,
   "metadata": {},
   "outputs": [],
   "source": [
    "import regress\n",
    "r = regress.multi_lin_regress()\n",
    "test = []\n",
    "for d in file.values:\n",
    "    if len(test) != 2 :\n",
    "        test.append([d[0],d[1:3]])\n",
    "        continue\n",
    "    r.add_data_point(d[1:3],d[0])\n"
   ]
  },
  {
   "cell_type": "code",
   "execution_count": 25,
   "metadata": {},
   "outputs": [],
   "source": [
    "r.fit()"
   ]
  },
  {
   "cell_type": "code",
   "execution_count": 30,
   "metadata": {},
   "outputs": [],
   "source": [
    "res = r.guess([test[0][1],test[1][1]])"
   ]
  },
  {
   "cell_type": "code",
   "execution_count": 33,
   "metadata": {},
   "outputs": [
    {
     "name": "stdout",
     "output_type": "stream",
     "text": [
      "Errors:\t1.95 % 0.77 %\n"
     ]
    }
   ],
   "source": [
    "print(\"Errors:\\t{:.2f} %\".format(100*(res[0]-test[0][0])/test[0][0]),\"{:.2f} %\".format(100*(res[1]-test[1][0])/test[1][0]))\n"
   ]
  }
 ],
 "metadata": {
  "kernelspec": {
   "display_name": "Python 3.10.6 64-bit",
   "language": "python",
   "name": "python3"
  },
  "language_info": {
   "codemirror_mode": {
    "name": "ipython",
    "version": 3
   },
   "file_extension": ".py",
   "mimetype": "text/x-python",
   "name": "python",
   "nbconvert_exporter": "python",
   "pygments_lexer": "ipython3",
   "version": "3.10.6"
  },
  "orig_nbformat": 4,
  "vscode": {
   "interpreter": {
    "hash": "b63f912486df5312ed1151d92c9112e25070de8917d82f96dce70c9fc65278ee"
   }
  }
 },
 "nbformat": 4,
 "nbformat_minor": 2
}
